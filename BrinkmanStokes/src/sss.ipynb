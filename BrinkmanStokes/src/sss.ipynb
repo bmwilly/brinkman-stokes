{
 "cells": [
  {
   "cell_type": "code",
   "execution_count": 1,
   "metadata": {},
   "outputs": [],
   "source": [
    "using PyCall"
   ]
  },
  {
   "cell_type": "code",
   "execution_count": 2,
   "metadata": {},
   "outputs": [
    {
     "name": "stdout",
     "output_type": "stream",
     "text": [
      "/Users/bwilliams/projects/personal/brinkman-stokes/.venv/bin/python\n"
     ]
    }
   ],
   "source": [
    "println(PyCall.python)"
   ]
  },
  {
   "cell_type": "code",
   "execution_count": 3,
   "metadata": {},
   "outputs": [
    {
     "name": "stderr",
     "output_type": "stream",
     "text": [
      "\u001b[32m\u001b[1m  Activating\u001b[22m\u001b[39m project at `~/projects/personal/brinkman-stokes/BrinkmanStokes`\n"
     ]
    }
   ],
   "source": [
    "using Pkg\n",
    "Pkg.activate(\"..\")"
   ]
  },
  {
   "cell_type": "code",
   "execution_count": 4,
   "metadata": {},
   "outputs": [],
   "source": [
    "using Revise\n",
    "using Debugger"
   ]
  },
  {
   "cell_type": "code",
   "execution_count": 5,
   "metadata": {},
   "outputs": [],
   "source": [
    "break_on(:error)"
   ]
  },
  {
   "cell_type": "code",
   "execution_count": 6,
   "metadata": {},
   "outputs": [],
   "source": [
    "using BrinkmanStokes\n"
   ]
  },
  {
   "cell_type": "code",
   "execution_count": 7,
   "metadata": {},
   "outputs": [],
   "source": [
    "\n",
    "# Revise.include(\"efficient-operators/stokes_flow/solve_stokes.jl\")\n",
    "# Revise.include(\"efficient-operators/graphs/flowplot.jl\")\n",
    "# Revise.include(\"efficient-operators/helpers/helper_functions.jl\")\n"
   ]
  },
  {
   "cell_type": "code",
   "execution_count": 8,
   "metadata": {},
   "outputs": [
    {
     "data": {
      "text/plain": [
       "ismember (generic function with 1 method)"
      ]
     },
     "metadata": {},
     "output_type": "display_data"
    }
   ],
   "source": [
    "\n",
    "include(\"efficient-operators/stokes_flow/solve_stokes.jl\")\n",
    "include(\"efficient-operators/graphs/flowplot.jl\")\n",
    "include(\"efficient-operators/helpers/helper_functions.jl\")\n"
   ]
  },
  {
   "cell_type": "code",
   "execution_count": 9,
   "metadata": {},
   "outputs": [
    {
     "data": {
      "text/plain": [
       "2"
      ]
     },
     "metadata": {},
     "output_type": "display_data"
    }
   ],
   "source": [
    "domain = 2\n",
    "msize = 2"
   ]
  },
  {
   "cell_type": "code",
   "execution_count": 10,
   "metadata": {},
   "outputs": [
    {
     "name": "stdout",
     "output_type": "stream",
     "text": [
      "Grid generation for channel domain.\n",
      "setting up Q2-P1 matrices... \n",
      "done\n",
      " 10.195009 seconds (28.09 M allocations: 1.417 GiB, 2.48% gc time, 99.74% compilation time)\n",
      "imposing (enclosed flow) boundary conditions ...\n",
      "gmres achieved desired tolerance at iteration 1. Residual norm is 9.84e-07.\n",
      "  1.174606 seconds (6.82 M allocations: 375.829 MiB, 3.23% gc time, 99.18% compilation time)\n",
      "GMRES reached desired tolerance at iteration 80\n"
     ]
    },
    {
     "data": {
      "text/plain": [
       "Dict{String, Any} with 30 entries:\n",
       "  \"Q\"     => sparse([1, 2, 3, 4, 5, 6, 7, 8, 9, 10  …  39, 40, 41, 42, 43, 44, …\n",
       "  \"f\"     => [0.0; 0.0; … ; 0.0; 0.0;;]\n",
       "  \"x\"     => [-1.0 -0.75 … 0.75 1.0]\n",
       "  \"xst\"   => [0.0, 0.0, 0.0, 0.0, 0.0, 0.0, 0.0, 0.0, 0.0, 0.4375  …  -0.117141…\n",
       "  \"bound\" => [1, 2, 3, 4, 5, 6, 7, 8, 9, 10  …  64, 73, 74, 75, 76, 77, 78, 79,…\n",
       "  \"bndxy\" => [-1 -1; 1 -1; 1 1; -1 1]\n",
       "  \"msize\" => 2\n",
       "  \"gst\"   => [-0.208333; 0.138889; … ; 0.0; 0.0;;]\n",
       "  \"B\"     => sparse([1, 2, 3, 2, 1, 2, 3, 4, 5, 6  …  44, 45, 46, 47, 48, 46, 4…\n",
       "  \"obs\"   => Any[]\n",
       "  \"ee\"    => Any[]\n",
       "  \"M\"     => #13\n",
       "  \"Bst\"   => sparse([1, 2, 3, 2, 1, 2, 3, 4, 5, 6  …  44, 45, 46, 47, 48, 46, 4…\n",
       "  \"By\"    => sparse([1, 2, 3, 10, 11, 12, 19, 20, 21, 1  …  81, 61, 62, 63, 70,…\n",
       "  \"kappa\" => [0.0, 0.0, 0.0, 0.0, 0.0, 0.0, 0.0, 0.0, 0.0, 0.0  …  0.0, 0.0, 0.…\n",
       "  \"y\"     => [-1.0 -0.75 … 0.75 1.0]\n",
       "  \"A\"     => sparse([1, 2, 3, 10, 11, 12, 19, 20, 21, 1  …  162, 142, 143, 144,…\n",
       "  \"g\"     => [0.0; 0.0; … ; 0.0; 0.0;;]\n",
       "  \"bnde\"  => [1 2 1; 2 3 1; 3 4 1; 4 1 1]\n",
       "  ⋮       => ⋮"
      ]
     },
     "metadata": {},
     "output_type": "display_data"
    }
   ],
   "source": [
    "sol = solve_stokes(domain, msize)"
   ]
  },
  {
   "cell_type": "code",
   "execution_count": 15,
   "metadata": {},
   "outputs": [
    {
     "data": {
      "text/plain": [
       "(-1.0, 1.0, -1.0, 1.0)"
      ]
     },
     "metadata": {},
     "output_type": "display_data"
    }
   ],
   "source": [
    "flowplot(sol, domain)\n"
   ]
  },
  {
   "cell_type": "code",
   "execution_count": 16,
   "metadata": {},
   "outputs": [],
   "source": [
    "xst = sol[\"xst\"];\n",
    "By = sol[\"By\"];\n",
    "Bx = sol[\"Bx\"];\n",
    "A = sol[\"A\"];\n",
    "xy = sol[\"xy\"];\n",
    "xyp = sol[\"xyp\"];\n",
    "x = sol[\"x\"];\n",
    "y = sol[\"y\"];\n",
    "bound = sol[\"bound\"];\n",
    "bndxy = sol[\"bndxy\"];\n",
    "bnde = sol[\"bnde\"];\n",
    "obs = sol[\"obs\"];\n",
    "kappa = sol[\"kappa\"];\n",
    "kp = reshape(kappa, length(x), length(y))';\n",
    "\n",
    "nvtx = length(xy[:, 1]);\n",
    "nu = 2nvtx;\n",
    "np = 3length(xyp[:, 1]);\n",
    "Asv = A[1:nvtx, 1:nvtx];\n",
    "x = vec(x);\n",
    "y = vec(y);\n",
    "xp = unique(xyp[:, 1]);\n",
    "yp = unique(xyp[:, 2]);\n",
    "\n",
    "# compute auxilliary quantities\n",
    "u = xst[1:nu];\n",
    "p = xst[nu+1:end];\n",
    "\n",
    "## plot velocity\n",
    "ux = reshape(u[1:nvtx], length(x), length(y))';\n",
    "uy = reshape(u[nvtx+1:end], length(x), length(y))';\n",
    "\n"
   ]
  },
  {
   "cell_type": "code",
   "execution_count": 24,
   "metadata": {},
   "outputs": [
    {
     "data": {
      "text/plain": [
       "\"/Users/bwilliams/projects/personal/brinkman-stokes/BrinkmanStokes/src/efficient-operators/output\""
      ]
     },
     "metadata": {},
     "output_type": "display_data"
    }
   ],
   "source": [
    "output_dir = joinpath(@__DIR__, \"efficient-operators\", \"output\")\n",
    "mkpath(output_dir)  # Create output directory if it doesn't exist\n"
   ]
  },
  {
   "cell_type": "code",
   "execution_count": 25,
   "metadata": {},
   "outputs": [],
   "source": [
    "DelimitedFiles.writedlm(joinpath(output_dir, \"x.csv\"), x)\n",
    "DelimitedFiles.writedlm(joinpath(output_dir, \"y.csv\"), y)\n",
    "DelimitedFiles.writedlm(joinpath(output_dir, \"ux.csv\"), ux)\n",
    "DelimitedFiles.writedlm(joinpath(output_dir, \"uy.csv\"), uy)\n",
    "DelimitedFiles.writedlm(joinpath(output_dir, \"kp.csv\"), kp)\n"
   ]
  },
  {
   "cell_type": "code",
   "execution_count": null,
   "metadata": {},
   "outputs": [],
   "source": []
  }
 ],
 "metadata": {
  "kernelspec": {
   "display_name": "Julia 1.11.5",
   "language": "julia",
   "name": "julia-1.11"
  },
  "language_info": {
   "file_extension": ".jl",
   "mimetype": "application/julia",
   "name": "julia",
   "version": "1.11.5"
  },
  "orig_nbformat": 4
 },
 "nbformat": 4,
 "nbformat_minor": 2
}
