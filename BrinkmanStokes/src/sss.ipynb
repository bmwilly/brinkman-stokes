{
 "cells": [
  {
   "cell_type": "code",
   "execution_count": 1,
   "metadata": {},
   "outputs": [],
   "source": [
    "using PyCall"
   ]
  },
  {
   "cell_type": "code",
   "execution_count": 2,
   "metadata": {},
   "outputs": [
    {
     "name": "stdout",
     "output_type": "stream",
     "text": [
      "/Users/bwilliams/projects/personal/brinkman-stokes/.venv/bin/python\n"
     ]
    }
   ],
   "source": [
    "println(PyCall.python)"
   ]
  },
  {
   "cell_type": "code",
   "execution_count": 3,
   "metadata": {},
   "outputs": [
    {
     "name": "stderr",
     "output_type": "stream",
     "text": [
      "\u001b[32m\u001b[1m  Activating\u001b[22m\u001b[39m project at `~/projects/personal/brinkman-stokes/BrinkmanStokes`\n"
     ]
    }
   ],
   "source": [
    "using Pkg\n",
    "Pkg.activate(\"..\")"
   ]
  },
  {
   "cell_type": "code",
   "execution_count": 4,
   "metadata": {},
   "outputs": [],
   "source": [
    "using Revise\n",
    "using Debugger"
   ]
  },
  {
   "cell_type": "code",
   "execution_count": 5,
   "metadata": {},
   "outputs": [],
   "source": [
    "break_on(:error)"
   ]
  },
  {
   "cell_type": "code",
   "execution_count": 6,
   "metadata": {},
   "outputs": [],
   "source": [
    "using BrinkmanStokes\n"
   ]
  },
  {
   "cell_type": "code",
   "execution_count": 7,
   "metadata": {},
   "outputs": [
    {
     "data": {
      "text/plain": [
       "ismember (generic function with 1 method)"
      ]
     },
     "metadata": {},
     "output_type": "display_data"
    }
   ],
   "source": [
    "\n",
    "include(\"efficient-operators/stokes_flow/solve_stokes.jl\")\n",
    "include(\"efficient-operators/graphs/flowplot.jl\")\n",
    "include(\"efficient-operators/helpers/helper_functions.jl\")\n"
   ]
  },
  {
   "cell_type": "code",
   "execution_count": 8,
   "metadata": {},
   "outputs": [
    {
     "data": {
      "text/plain": [
       "4"
      ]
     },
     "metadata": {},
     "output_type": "display_data"
    }
   ],
   "source": [
    "# 1 = lid-driven cavity; 2 = brinkman\n",
    "domain = 1\n",
    "\n",
    "# mesh size\n",
    "msize = 4"
   ]
  },
  {
   "cell_type": "code",
   "execution_count": 9,
   "metadata": {},
   "outputs": [
    {
     "name": "stdout",
     "output_type": "stream",
     "text": [
      "============================================================\n",
      "STOKES FLOW SOLVER\n",
      "============================================================\n",
      "Domain type: Square cavity\n",
      "Mesh size: 4 (32×32 grid)\n",
      "Multigrid: Disabled\n",
      "\n",
      "Setting up finite element system...\n",
      "Generating Q2 grid for square cavity domain\n",
      "  Elements per direction: 16\n",
      "  Total elements: 256\n",
      "  Grid intervals: 32 per direction\n",
      "  Generating element connectivity...\n",
      "  Identifying boundary nodes...\n",
      "Grid generation complete:\n",
      "  Total nodes: 1089\n",
      "  Boundary nodes: 128\n",
      "  Elements: 256\n",
      "Generating Q2-P1 grid from Q2 velocity grid\n",
      "  Velocity nodes: 1089\n",
      "  Elements: 256\n",
      "  Grid size: 33×33\n",
      "  Correcting mid-side node positions...\n",
      "  Computing pressure node coordinates...\n",
      "  Computing element connectivity...\n",
      "Q2-P1 grid generation complete\n",
      "  Pressure nodes: 256\n",
      "  Mid-side corrections applied\n",
      "setting up Q2-P1 matrices... \n",
      "done\n",
      "  3.939413 seconds (6.13 M allocations: 522.035 MiB, 1.02% gc time, 98.47% compilation time)\n",
      "System dimensions:\n",
      "  Velocity DOFs: 2178\n",
      "  Pressure DOFs: 2178\n",
      "  Total DOFs: 4356\n",
      "\n",
      "Applying boundary conditions...\n",
      "  Boundary nodes: 128\n",
      "  1.191663 seconds (3.59 M allocations: 195.009 MiB, 2.42% gc time, 99.77% compilation time)\n",
      "  Constrained velocity DOFs: 2178\n",
      "  Pressure DOFs: 768\n",
      "Assembling saddle-point system...\n",
      "  0.173270 seconds (587.83 k allocations: 32.591 MiB, 99.23% compilation time)\n",
      "  System matrix: 2946×2946\n",
      "  Nonzeros: 49228\n",
      "  Sparsity: 0.57%\n",
      "\n",
      "GMRES Configuration:\n",
      "  Restart: 2946\n",
      "  Tolerance: 1.0e-6\n",
      "  Max iterations: 100\n",
      "  Preconditioning: None\n",
      "\n",
      "Validating system matrix...\n",
      "  System size: 2946, RHS norm: 8.261\n",
      "\n",
      "Solving linear system...\n",
      "Starting GMRES iteration...\n",
      "Timeout set to: 300 seconds\n",
      "Attempting direct GMRES solve...\n",
      "gmres achieved desired tolerance at iteration 1. Residual norm is 9.99e-07.\n",
      "  2.195253 seconds (9.05 M allocations: 3.947 GiB, 19.09% gc time, 67.48% compilation time)\n",
      "GMRES completed successfully in 2.2 seconds!\n",
      "\n",
      "GMRES Results:\n",
      "  ✓ Converged to tolerance at iteration 273\n",
      "  Final residual: 9.985038641113284e-7\n",
      "  Iterations: 1\n",
      "\n",
      "Generating output files...\n",
      "  Convergence plot: /Users/bwilliams/projects/personal/brinkman-stokes/BrinkmanStokes/output/efficient-operators/domain=1/size=4/plots/convergence.png\n",
      "  Convergence data: /Users/bwilliams/projects/personal/brinkman-stokes/BrinkmanStokes/output/efficient-operators/domain=1/size=4/convergence_data.csv\n",
      "Stokes solver completed successfully!\n",
      "============================================================\n"
     ]
    },
    {
     "data": {
      "text/plain": [
       "Dict{String, Any} with 33 entries:\n",
       "  \"Q\"     => sparse([1, 2, 3, 1, 2, 1, 3, 4, 5, 6  …  763, 765, 764, 763, 765, …\n",
       "  \"f\"     => [0.0; 0.0; … ; 0.0; 0.0;;]\n",
       "  \"x\"     => [-1.0, -0.9375, -0.875, -0.8125, -0.75, -0.6875, -0.625, -0.5625, …\n",
       "  \"xst\"   => [0.0, 0.0, 0.0, 0.0, 0.0, 0.0, 0.0, 0.0, 0.0, 0.0  …  -0.173521, 4…\n",
       "  \"bound\" => [1, 2, 3, 4, 5, 6, 7, 8, 9, 10  …  1080, 1081, 1082, 1083, 1084, 1…\n",
       "  \"bndxy\" => [-1.0 -1.0; 1.0 -1.0; 1.0 1.0; -1.0 1.0]\n",
       "  \"msize\" => 4\n",
       "  \"gst\"   => [0.0; 0.0; … ; -0.000572628; -0.00862122;;]\n",
       "  \"B\"     => sparse([1, 2, 3, 1, 2, 3, 1, 2, 3, 4  …  765, 766, 767, 768, 766, …\n",
       "  \"obs\"   => Int64[]\n",
       "  \"ee\"    => Int64[]\n",
       "  \"M\"     => #16\n",
       "  \"Bst\"   => sparse([1, 2, 3, 1, 2, 3, 1, 2, 3, 4  …  765, 766, 767, 768, 766, …\n",
       "  \"By\"    => sparse([1, 2, 3, 34, 35, 36, 67, 68, 69, 1  …  1089, 1021, 1022, 1…\n",
       "  \"kappa\" => [0.0, 0.0, 0.0, 0.0, 0.0, 0.0, 0.0, 0.0, 0.0, 0.0  …  0.0, 0.0, 0.…\n",
       "  \"y\"     => [-1.0, -0.9375, -0.875, -0.8125, -0.75, -0.6875, -0.625, -0.5625, …\n",
       "  \"A\"     => sparse([1, 2, 3, 34, 35, 36, 67, 68, 69, 1  …  2178, 2110, 2111, 2…\n",
       "  \"g\"     => [0.0; 0.0; … ; 0.0; 0.0;;]\n",
       "  \"bnde\"  => [1 2 1; 2 3 2; 3 4 3; 4 1 4]\n",
       "  ⋮       => ⋮"
      ]
     },
     "metadata": {},
     "output_type": "display_data"
    }
   ],
   "source": [
    "sol = solve_stokes(domain, msize)"
   ]
  },
  {
   "cell_type": "code",
   "execution_count": 10,
   "metadata": {},
   "outputs": [
    {
     "name": "stdout",
     "output_type": "stream",
     "text": [
      "Streamlines plot saved to: /Users/bwilliams/projects/personal/brinkman-stokes/BrinkmanStokes/output/efficient-operators/domain=1/size=4/plots/streamlines.png\n",
      "Velocity field plot saved to: /Users/bwilliams/projects/personal/brinkman-stokes/BrinkmanStokes/output/efficient-operators/domain=1/size=4/plots/velocity_field.png\n"
     ]
    }
   ],
   "source": [
    "flowplot(sol, domain)\n"
   ]
  },
  {
   "cell_type": "code",
   "execution_count": null,
   "metadata": {},
   "outputs": [],
   "source": []
  }
 ],
 "metadata": {
  "kernelspec": {
   "display_name": "Julia 1.11.6",
   "language": "julia",
   "name": "julia-1.11"
  },
  "language_info": {
   "file_extension": ".jl",
   "mimetype": "application/julia",
   "name": "julia",
   "version": "1.11.6"
  },
  "orig_nbformat": 4
 },
 "nbformat": 4,
 "nbformat_minor": 2
}
