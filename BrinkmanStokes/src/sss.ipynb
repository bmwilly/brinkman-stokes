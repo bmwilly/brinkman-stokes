{
 "cells": [
  {
   "cell_type": "code",
   "execution_count": 1,
   "metadata": {},
   "outputs": [],
   "source": [
    "using PyCall"
   ]
  },
  {
   "cell_type": "code",
   "execution_count": 2,
   "metadata": {},
   "outputs": [
    {
     "name": "stdout",
     "output_type": "stream",
     "text": [
      "/Users/bwilliams/projects/personal/brinkman-stokes/.venv/bin/python\n"
     ]
    }
   ],
   "source": [
    "println(PyCall.python)"
   ]
  },
  {
   "cell_type": "code",
   "execution_count": 3,
   "metadata": {},
   "outputs": [
    {
     "name": "stderr",
     "output_type": "stream",
     "text": [
      "\u001b[32m\u001b[1m  Activating\u001b[22m\u001b[39m project at `~/projects/personal/brinkman-stokes/BrinkmanStokes`\n"
     ]
    }
   ],
   "source": [
    "using Pkg\n",
    "Pkg.activate(\"..\")"
   ]
  },
  {
   "cell_type": "code",
   "execution_count": 4,
   "metadata": {},
   "outputs": [],
   "source": [
    "using Revise\n",
    "using Debugger"
   ]
  },
  {
   "cell_type": "code",
   "execution_count": 5,
   "metadata": {},
   "outputs": [],
   "source": [
    "break_on(:error)"
   ]
  },
  {
   "cell_type": "code",
   "execution_count": 6,
   "metadata": {},
   "outputs": [],
   "source": [
    "using BrinkmanStokes\n"
   ]
  },
  {
   "cell_type": "code",
   "execution_count": 15,
   "metadata": {},
   "outputs": [
    {
     "data": {
      "text/plain": [
       "ismember (generic function with 1 method)"
      ]
     },
     "metadata": {},
     "output_type": "display_data"
    }
   ],
   "source": [
    "\n",
    "include(\"efficient-operators/stokes_flow/solve_stokes.jl\")\n",
    "include(\"efficient-operators/graphs/flowplot.jl\")\n",
    "include(\"efficient-operators/helpers/helper_functions.jl\")\n"
   ]
  },
  {
   "cell_type": "code",
   "execution_count": 16,
   "metadata": {},
   "outputs": [
    {
     "data": {
      "text/plain": [
       "7"
      ]
     },
     "metadata": {},
     "output_type": "display_data"
    }
   ],
   "source": [
    "# 1 = lid-driven cavity; 2 = brinkman\n",
    "domain = 1\n",
    "\n",
    "# mesh size\n",
    "msize = 7"
   ]
  },
  {
   "cell_type": "code",
   "execution_count": 17,
   "metadata": {},
   "outputs": [
    {
     "name": "stdout",
     "output_type": "stream",
     "text": [
      "Grid generation for cavity domain.\n",
      "setting up Q2-P1 matrices... \n",
      "done\n",
      "  7.811064 seconds (5.83 M allocations: 12.880 GiB, 16.56% gc time, 54.18% compilation time)\n",
      "imposing (enclosed flow) boundary conditions ...\n",
      "gmres achieved desired tolerance at iteration 1. Residual norm is 9.98e-07.\n",
      "1485.170194 seconds (28.19 M allocations: 8.614 TiB, 25.97% gc time, 0.11% compilation time)\n",
      "GMRES reached desired tolerance at iteration 1790\n",
      "Convergence plot saved to: /Users/bwilliams/projects/personal/brinkman-stokes/BrinkmanStokes/src/efficient-operators/stokes_flow/../output/plots/convergence_msize7.png\n"
     ]
    },
    {
     "data": {
      "text/plain": [
       "Dict{String, Any} with 30 entries:\n",
       "  \"Q\"     => sparse([1, 2, 3, 1, 2, 3, 1, 2, 3, 4  …  49147, 49149, 49148, 4914…\n",
       "  \"f\"     => [0.0; 0.0; … ; 0.0; 0.0;;]\n",
       "  \"x\"     => [-1.0 -0.992188 … 0.992188 1.0]\n",
       "  \"xst\"   => [0.0, 0.0, 0.0, 0.0, 0.0, 0.0, 0.0, 0.0, 0.0, 0.0  …  0.137235, 19…\n",
       "  \"bound\" => [1, 2, 3, 4, 5, 6, 7, 8, 9, 10  …  66040, 66041, 66042, 66043, 660…\n",
       "  \"bndxy\" => [-1 -1; 1 -1; 1 1; -1 1]\n",
       "  \"msize\" => 7\n",
       "  \"gst\"   => [0.0; 0.0; … ; -1.25179e-6; -0.000158985;;]\n",
       "  \"B\"     => sparse([1, 2, 3, 1, 2, 3, 1, 2, 3, 4  …  49149, 49150, 49151, 4915…\n",
       "  \"obs\"   => Any[]\n",
       "  \"ee\"    => Any[]\n",
       "  \"M\"     => #13\n",
       "  \"Bst\"   => sparse([1, 2, 3, 1, 2, 3, 1, 2, 3, 4  …  49149, 49150, 49151, 4915…\n",
       "  \"By\"    => sparse([1, 2, 3, 258, 259, 260, 515, 516, 517, 1  …  66049, 65533,…\n",
       "  \"kappa\" => [0.0, 0.0, 0.0, 0.0, 0.0, 0.0, 0.0, 0.0, 0.0, 0.0  …  0.0, 0.0, 0.…\n",
       "  \"y\"     => [-1.0 -0.992188 … 0.992188 1.0]\n",
       "  \"A\"     => sparse([1, 2, 3, 258, 259, 260, 515, 516, 517, 1  …  132098, 13158…\n",
       "  \"g\"     => [0.0; 0.0; … ; 0.0; 0.0;;]\n",
       "  \"bnde\"  => [1 2 1; 2 3 1; 3 4 1; 4 1 1]\n",
       "  ⋮       => ⋮"
      ]
     },
     "metadata": {},
     "output_type": "display_data"
    }
   ],
   "source": [
    "sol = solve_stokes(domain, msize)"
   ]
  },
  {
   "cell_type": "code",
   "execution_count": 18,
   "metadata": {},
   "outputs": [
    {
     "name": "stdout",
     "output_type": "stream",
     "text": [
      "Streamlines plot saved to: /Users/bwilliams/projects/personal/brinkman-stokes/BrinkmanStokes/src/efficient-operators/graphs/../../../output/plots/streamlines.png\n",
      "Velocity field plot saved to: /Users/bwilliams/projects/personal/brinkman-stokes/BrinkmanStokes/src/efficient-operators/graphs/../../../output/plots/velocity_field.png\n"
     ]
    }
   ],
   "source": [
    "flowplot(sol, domain)\n"
   ]
  },
  {
   "cell_type": "code",
   "execution_count": null,
   "metadata": {},
   "outputs": [],
   "source": []
  }
 ],
 "metadata": {
  "kernelspec": {
   "display_name": "Julia 1.11.5",
   "language": "julia",
   "name": "julia-1.11"
  },
  "language_info": {
   "file_extension": ".jl",
   "mimetype": "application/julia",
   "name": "julia",
   "version": "1.11.5"
  },
  "orig_nbformat": 4
 },
 "nbformat": 4,
 "nbformat_minor": 2
}
