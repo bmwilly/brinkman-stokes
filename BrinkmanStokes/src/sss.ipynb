{
 "cells": [
  {
   "cell_type": "code",
   "execution_count": 29,
   "metadata": {},
   "outputs": [],
   "source": [
    "using PyCall"
   ]
  },
  {
   "cell_type": "code",
   "execution_count": 30,
   "metadata": {},
   "outputs": [
    {
     "name": "stdout",
     "output_type": "stream",
     "text": [
      "/Users/bwilliams/projects/personal/brinkman-stokes/.venv/bin/python\n"
     ]
    }
   ],
   "source": [
    "println(PyCall.python)"
   ]
  },
  {
   "cell_type": "code",
   "execution_count": 31,
   "metadata": {},
   "outputs": [
    {
     "name": "stderr",
     "output_type": "stream",
     "text": [
      "\u001b[32m\u001b[1m  Activating\u001b[22m\u001b[39m project at `~/projects/personal/brinkman-stokes/BrinkmanStokes`\n"
     ]
    }
   ],
   "source": [
    "using Pkg\n",
    "Pkg.activate(\"..\")"
   ]
  },
  {
   "cell_type": "code",
   "execution_count": 32,
   "metadata": {},
   "outputs": [],
   "source": [
    "using Revise\n",
    "using Debugger"
   ]
  },
  {
   "cell_type": "code",
   "execution_count": 33,
   "metadata": {},
   "outputs": [],
   "source": [
    "break_on(:error)"
   ]
  },
  {
   "cell_type": "code",
   "execution_count": 34,
   "metadata": {},
   "outputs": [],
   "source": [
    "using BrinkmanStokes\n"
   ]
  },
  {
   "cell_type": "code",
   "execution_count": 35,
   "metadata": {},
   "outputs": [
    {
     "data": {
      "text/plain": [
       "ismember (generic function with 1 method)"
      ]
     },
     "metadata": {},
     "output_type": "display_data"
    }
   ],
   "source": [
    "\n",
    "include(\"efficient-operators/stokes_flow/solve_stokes.jl\")\n",
    "include(\"efficient-operators/graphs/flowplot.jl\")\n",
    "include(\"efficient-operators/helpers/helper_functions.jl\")\n"
   ]
  },
  {
   "cell_type": "code",
   "execution_count": 36,
   "metadata": {},
   "outputs": [
    {
     "data": {
      "text/plain": [
       "3"
      ]
     },
     "metadata": {},
     "output_type": "display_data"
    }
   ],
   "source": [
    "# 1 = lid-driven cavity; 2 = brinkman\n",
    "domain = 2\n",
    "\n",
    "# mesh size\n",
    "msize = 3"
   ]
  },
  {
   "cell_type": "code",
   "execution_count": 44,
   "metadata": {},
   "outputs": [
    {
     "name": "stdout",
     "output_type": "stream",
     "text": [
      "============================================================\n",
      "STOKES FLOW SOLVER\n",
      "============================================================\n",
      "Domain type: Brinkman-Stokes\n",
      "Mesh size: 3 (16×16 grid)\n",
      "Multigrid: Disabled\n",
      "\n",
      "Setting up finite element system...\n",
      "Grid generation for channel domain.\n",
      "Grid generation for channel domain.\n",
      "  0.000164 seconds (1.21 k allocations: 92.062 KiB)\n",
      "Generating Q2-P1 grid from Q2 velocity grid\n",
      "  Velocity nodes: 289\n",
      "  Elements: 64\n",
      "  Grid size: 17×17\n",
      "  Correcting mid-side node positions...\n",
      "  Computing pressure node coordinates...\n",
      "  Computing element connectivity...\n",
      "Q2-P1 grid generation complete\n",
      "  Pressure nodes: 64\n",
      "  Mid-side corrections applied\n",
      "  0.000380 seconds (1.07 k allocations: 54.984 KiB)\n",
      "setting up Q2-P1 matrices... \n",
      "done\n",
      "Assembling Brinkman matrices...\n",
      "  0.101084 seconds (352.06 k allocations: 20.892 MiB, 4.36% gc time, 97.07% compilation time)\n",
      "  Brinkman matrix K: 289×289, nnz: 4225\n",
      "  0.000142 seconds (116 allocations: 482.891 KiB)\n",
      "  Block matrix A: (578, 578), nnz: 8450\n",
      "  0.124417 seconds (442.18 k allocations: 81.917 MiB, 12.80% gc time, 78.86% compilation time)\n",
      "Brinkman permeability parameter included\n",
      "System dimensions:\n",
      "  Velocity DOFs: 578\n",
      "  Pressure DOFs: 578\n",
      "  Total DOFs: 1156\n",
      "\n",
      "Applying boundary conditions...\n",
      "  Boundary nodes: 49\n",
      "  0.000523 seconds (347 allocations: 1.260 MiB)\n",
      "  Constrained velocity DOFs: 578\n",
      "  Pressure DOFs: 192\n",
      "Assembling saddle-point system...\n",
      "  0.000170 seconds (133 allocations: 827.719 KiB)\n",
      "  System matrix: 770×770\n",
      "  Nonzeros: 10694\n",
      "  Sparsity: 1.8%\n",
      "\n",
      "GMRES Configuration:\n",
      "  Restart: 770\n",
      "  Tolerance: 1.0e-6\n",
      "  Max iterations: 100\n",
      "  Preconditioning: None\n",
      "\n",
      "Validating system matrix...\n",
      "  System size: 770, RHS norm: 2.986\n",
      "\n",
      "Solving linear system...\n",
      "Starting GMRES iteration...\n",
      "Timeout set to: 300 seconds\n",
      "Attempting direct GMRES solve...\n",
      "gmres achieved desired tolerance at iteration 1. Residual norm is 7.68e-07.\n",
      "  0.752953 seconds (2.15 M allocations: 4.492 GiB, 38.37% gc time)\n",
      "GMRES completed successfully in 0.75 seconds!\n",
      "\n",
      "GMRES Results:\n",
      "  ✓ Converged to tolerance at iteration 597\n",
      "  Final residual: 7.681367318685605e-7\n",
      "  Iterations: 1\n",
      "\n",
      "Generating output files...\n",
      "  Convergence plot: /Users/bwilliams/projects/personal/brinkman-stokes/BrinkmanStokes/output/efficient-operators/domain=2/size=3/plots/convergence.png\n",
      "  Convergence data: /Users/bwilliams/projects/personal/brinkman-stokes/BrinkmanStokes/output/efficient-operators/domain=2/size=3/convergence_data.csv\n",
      "Stokes solver completed successfully!\n",
      "============================================================\n"
     ]
    },
    {
     "data": {
      "text/plain": [
       "Dict{String, Any} with 33 entries:\n",
       "  \"Q\"     => sparse([1, 2, 3, 4, 5, 6, 7, 8, 9, 10  …  183, 184, 185, 186, 187,…\n",
       "  \"f\"     => [0.0; 0.0; … ; 0.0; 0.0;;]\n",
       "  \"x\"     => [-1.0 -0.875 … 0.875 1.0]\n",
       "  \"xst\"   => [0.0, 0.0, 0.0, 0.0, 0.0, 0.0, 0.0, 0.0, 0.0, 0.0  …  -0.236355, 7…\n",
       "  \"bound\" => [1, 2, 3, 4, 5, 6, 7, 8, 9, 10  …  280, 281, 282, 283, 284, 285, 2…\n",
       "  \"bndxy\" => [-1 -1; 1 -1; 1 1; -1 1]\n",
       "  \"msize\" => 3\n",
       "  \"gst\"   => [-0.0572917; 0.0381944; … ; 0.0; 0.0;;]\n",
       "  \"B\"     => sparse([1, 2, 3, 2, 1, 2, 3, 4, 5, 6  …  188, 189, 190, 191, 192, …\n",
       "  \"obs\"   => Any[]\n",
       "  \"ee\"    => Int64[]\n",
       "  \"M\"     => #28\n",
       "  \"Bst\"   => sparse([1, 2, 3, 2, 1, 2, 3, 4, 5, 6  …  188, 189, 190, 191, 192, …\n",
       "  \"By\"    => sparse([1, 2, 3, 18, 19, 20, 35, 36, 37, 1  …  289, 253, 254, 255,…\n",
       "  \"kappa\" => [0.0, 0.0, 0.0, 0.0, 0.0, 0.0, 0.0, 0.0, 0.0, 0.0  …  0.0, 0.0, 0.…\n",
       "  \"y\"     => [-1.0 -0.875 … 0.875 1.0]\n",
       "  \"A\"     => sparse([1, 2, 3, 18, 19, 20, 35, 36, 37, 1  …  578, 542, 543, 544,…\n",
       "  \"g\"     => [0.0; 0.0; … ; 0.0; 0.0;;]\n",
       "  \"bnde\"  => [1 2 1; 2 3 1; 3 4 1; 4 1 1]\n",
       "  ⋮       => ⋮"
      ]
     },
     "metadata": {},
     "output_type": "display_data"
    }
   ],
   "source": [
    "sol = solve_stokes(domain, msize)"
   ]
  },
  {
   "cell_type": "code",
   "execution_count": 45,
   "metadata": {},
   "outputs": [
    {
     "name": "stdout",
     "output_type": "stream",
     "text": [
      "Streamlines plot saved to: /Users/bwilliams/projects/personal/brinkman-stokes/BrinkmanStokes/output/efficient-operators/domain=2/size=3/plots/streamlines.png\n",
      "Velocity field plot saved to: /Users/bwilliams/projects/personal/brinkman-stokes/BrinkmanStokes/output/efficient-operators/domain=2/size=3/plots/velocity_field.png\n"
     ]
    }
   ],
   "source": [
    "flowplot(sol, domain)\n"
   ]
  },
  {
   "cell_type": "code",
   "execution_count": null,
   "metadata": {},
   "outputs": [],
   "source": []
  }
 ],
 "metadata": {
  "kernelspec": {
   "display_name": "Julia 1.11.6",
   "language": "julia",
   "name": "julia-1.11"
  },
  "language_info": {
   "file_extension": ".jl",
   "mimetype": "application/julia",
   "name": "julia",
   "version": "1.11.6"
  },
  "orig_nbformat": 4
 },
 "nbformat": 4,
 "nbformat_minor": 2
}
