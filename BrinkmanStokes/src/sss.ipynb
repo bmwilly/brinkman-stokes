{
 "cells": [
  {
   "cell_type": "code",
   "execution_count": 2,
   "metadata": {},
   "outputs": [
    {
     "name": "stderr",
     "output_type": "stream",
     "text": [
      "\u001b[32m\u001b[1m  Activating\u001b[22m\u001b[39m project at `~/projects/personal/brinkman-stokes/BrinkmanStokes`\n"
     ]
    }
   ],
   "source": [
    "using Pkg\n",
    "Pkg.activate(\"..\")"
   ]
  },
  {
   "cell_type": "code",
   "execution_count": 3,
   "metadata": {},
   "outputs": [],
   "source": [
    "using Revise\n",
    "using Debugger"
   ]
  },
  {
   "cell_type": "code",
   "execution_count": 4,
   "metadata": {},
   "outputs": [],
   "source": [
    "break_on(:error)"
   ]
  },
  {
   "cell_type": "code",
   "execution_count": 5,
   "metadata": {},
   "outputs": [
    {
     "ename": "LoadError",
     "evalue": "LoadError: ArgumentError: Package Revise does not have DelimitedFiles in its dependencies:\n- You may have a partially installed environment. Try `Pkg.instantiate()`\n  to ensure all packages in the environment are installed.\n- Or, if you have Revise checked out for development and have\n  added DelimitedFiles as a dependency but haven't updated your primary\n  environment's manifest file, try `Pkg.resolve()`.\n- Otherwise you may need to report an issue with Revise\nin expression starting at /Users/bwilliams/projects/personal/brinkman-stokes/BrinkmanStokes/src/efficient-operators/stokes_flow/solve_stokes.jl:1",
     "output_type": "error",
     "traceback": [
      "LoadError: ArgumentError: Package Revise does not have DelimitedFiles in its dependencies:\n",
      "- You may have a partially installed environment. Try `Pkg.instantiate()`\n",
      "  to ensure all packages in the environment are installed.\n",
      "- Or, if you have Revise checked out for development and have\n",
      "  added DelimitedFiles as a dependency but haven't updated your primary\n",
      "  environment's manifest file, try `Pkg.resolve()`.\n",
      "- Otherwise you may need to report an issue with Revise\n",
      "in expression starting at /Users/bwilliams/projects/personal/brinkman-stokes/BrinkmanStokes/src/efficient-operators/stokes_flow/solve_stokes.jl:1\n",
      "\n",
      "Stacktrace:\n",
      " [1] macro expansion\n",
      "   @ ./loading.jl:1599 [inlined]\n",
      " [2] macro expansion\n",
      "   @ ./lock.jl:267 [inlined]\n",
      " [3] require(into::Module, mod::Symbol)\n",
      "   @ Base ./loading.jl:1576\n",
      " [4] include(mod::Module, _path::String)\n",
      "   @ Base ./Base.jl:457\n",
      " [5] include(x::String)\n",
      "   @ Revise ~/.julia/packages/Revise/7HQ7u/src/Revise.jl:25\n",
      " [6] top-level scope\n",
      "   @ ~/projects/personal/brinkman-stokes/BrinkmanStokes/src/sss.ipynb:3"
     ]
    }
   ],
   "source": [
    "using BrinkmanStokes\n",
    "\n",
    "Revise.include(\"efficient-operators/stokes_flow/solve_stokes.jl\")\n",
    "Revise.include(\"efficient-operators/graphs/flowplot.jl\")\n",
    "Revise.include(\"efficient-operators/helpers/helper_functions.jl\")\n"
   ]
  },
  {
   "cell_type": "code",
   "execution_count": 10,
   "metadata": {},
   "outputs": [
    {
     "data": {
      "text/plain": [
       "2"
      ]
     },
     "metadata": {},
     "output_type": "display_data"
    }
   ],
   "source": [
    "domain = 2\n",
    "msize = 2"
   ]
  },
  {
   "cell_type": "code",
   "execution_count": 14,
   "metadata": {},
   "outputs": [
    {
     "name": "stdout",
     "output_type": "stream",
     "text": [
      "Grid generation for channel domain.\n",
      "setting up Q2-P1 matrices... \n",
      "done\n"
     ]
    },
    {
     "ename": "MethodError",
     "evalue": "MethodError: Cannot `convert` an object of type CartesianIndex{2} to an object of type Int64\n\nClosest candidates are:\n  convert(::Type{T}, !Matched::T) where T<:Number\n   @ Base number.jl:6\n  convert(::Type{T}, !Matched::Number) where T<:Number\n   @ Base number.jl:7\n  convert(::Type{T}, !Matched::Base.TwicePrecision) where T<:Number\n   @ Base twiceprecision.jl:273\n  ...\n",
     "output_type": "error",
     "traceback": [
      "MethodError: Cannot `convert` an object of type CartesianIndex{2} to an object of type Int64\n",
      "\n",
      "Closest candidates are:\n",
      "  convert(::Type{T}, !Matched::T) where T<:Number\n",
      "   @ Base number.jl:6\n",
      "  convert(::Type{T}, !Matched::Number) where T<:Number\n",
      "   @ Base number.jl:7\n",
      "  convert(::Type{T}, !Matched::Base.TwicePrecision) where T<:Number\n",
      "   @ Base twiceprecision.jl:273\n",
      "  ...\n",
      "\n",
      "\n",
      "Stacktrace:\n",
      "  [1] setindex!(A::Vector{Int64}, x::CartesianIndex{2}, i1::Int64)\n",
      "    @ Base ./array.jl:969\n",
      "  [2] _unsafe_copyto!(dest::Vector{Int64}, doffs::Int64, src::Vector{Any}, soffs::Int64, n::Int64)\n",
      "    @ Base ./array.jl:250\n",
      "  [3] unsafe_copyto!\n",
      "    @ ./array.jl:304 [inlined]\n",
      "  [4] _copyto_impl!\n",
      "    @ ./array.jl:327 [inlined]\n",
      "  [5] copyto!\n",
      "    @ ./array.jl:314 [inlined]\n",
      "  [6] copyto!\n",
      "    @ ./array.jl:339 [inlined]\n",
      "  [7] copyto_axcheck!\n",
      "    @ ./abstractarray.jl:1180 [inlined]\n",
      "  [8] Vector{Int64}(x::Vector{Any})\n",
      "    @ Base ./array.jl:621\n",
      "  [9] Array\n",
      "    @ ./boot.jl:501 [inlined]\n",
      " [10] convert(#unused#::Type{Array{Int64}}, a::Vector{Any})\n",
      "    @ Base ./array.jl:613\n",
      " [11] assemble_poisson_brinkman(self::BrinkmanStokes.Mesh.Hexmesh, order::Int64, centers::Matrix{Float64})\n",
      "    @ BrinkmanStokes.Mesh ~/projects/personal/brinkman-stokes/BrinkmanStokes/src/homg/Hexmesh.jl:609\n",
      " [12] brinkman_stokes(msize::Int64)\n",
      "    @ Main ~/projects/personal/brinkman-stokes/BrinkmanStokes/src/efficient-operators/stokes_flow/brinkman_stokes.jl:75\n",
      " [13] macro expansion\n",
      "    @ ~/projects/personal/brinkman-stokes/BrinkmanStokes/src/efficient-operators/stokes_flow/solve_stokes.jl:17 [inlined]\n",
      " [14] macro expansion\n",
      "    @ ./timing.jl:273 [inlined]\n",
      " [15] solve_stokes(domain::Int64, msize::Int64)\n",
      "    @ Main ~/projects/personal/brinkman-stokes/BrinkmanStokes/src/efficient-operators/stokes_flow/solve_stokes.jl:13\n",
      " [16] top-level scope\n",
      "    @ ~/projects/personal/brinkman-stokes/BrinkmanStokes/src/sss.ipynb:1"
     ]
    }
   ],
   "source": [
    "sol = solve_stokes(domain, msize)"
   ]
  },
  {
   "cell_type": "code",
   "execution_count": null,
   "metadata": {},
   "outputs": [],
   "source": []
  }
 ],
 "metadata": {
  "kernelspec": {
   "display_name": "Julia 1.9.0",
   "language": "julia",
   "name": "julia-1.9"
  },
  "language_info": {
   "file_extension": ".jl",
   "mimetype": "application/julia",
   "name": "julia",
   "version": "1.9.0"
  },
  "orig_nbformat": 4
 },
 "nbformat": 4,
 "nbformat_minor": 2
}
