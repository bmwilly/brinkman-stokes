{
 "cells": [
  {
   "cell_type": "code",
   "execution_count": 1,
   "metadata": {},
   "outputs": [
    {
     "name": "stderr",
     "output_type": "stream",
     "text": [
      "\u001b[32m\u001b[1m  Activating\u001b[22m\u001b[39m project at `~/projects/personal/brinkman-stokes/BrinkmanStokes`\n"
     ]
    }
   ],
   "source": [
    "using Pkg\n",
    "Pkg.activate(\"..\")"
   ]
  },
  {
   "cell_type": "code",
   "execution_count": 2,
   "metadata": {},
   "outputs": [],
   "source": [
    "using Revise\n",
    "using Debugger"
   ]
  },
  {
   "cell_type": "code",
   "execution_count": 3,
   "metadata": {},
   "outputs": [],
   "source": [
    "break_on(:error)"
   ]
  },
  {
   "cell_type": "code",
   "execution_count": 4,
   "metadata": {},
   "outputs": [],
   "source": [
    "using BrinkmanStokes\n"
   ]
  },
  {
   "cell_type": "code",
   "execution_count": 5,
   "metadata": {},
   "outputs": [],
   "source": [
    "\n",
    "# Revise.include(\"efficient-operators/stokes_flow/solve_stokes.jl\")\n",
    "# Revise.include(\"efficient-operators/graphs/flowplot.jl\")\n",
    "# Revise.include(\"efficient-operators/helpers/helper_functions.jl\")\n"
   ]
  },
  {
   "cell_type": "code",
   "execution_count": 6,
   "metadata": {},
   "outputs": [
    {
     "data": {
      "text/plain": [
       "ismember (generic function with 1 method)"
      ]
     },
     "execution_count": 6,
     "metadata": {},
     "output_type": "execute_result"
    }
   ],
   "source": [
    "\n",
    "include(\"efficient-operators/stokes_flow/solve_stokes.jl\")\n",
    "include(\"efficient-operators/graphs/flowplot.jl\")\n",
    "include(\"efficient-operators/helpers/helper_functions.jl\")\n"
   ]
  },
  {
   "cell_type": "code",
   "execution_count": 7,
   "metadata": {},
   "outputs": [
    {
     "data": {
      "text/plain": [
       "2"
      ]
     },
     "execution_count": 7,
     "metadata": {},
     "output_type": "execute_result"
    }
   ],
   "source": [
    "domain = 2\n",
    "msize = 2"
   ]
  },
  {
   "cell_type": "code",
   "execution_count": 8,
   "metadata": {},
   "outputs": [
    {
     "name": "stdout",
     "output_type": "stream",
     "text": [
      "Grid generation for channel domain.\n",
      "setting up Q2-P1 matrices... \n",
      "done\n"
     ]
    },
    {
     "ename": "LoadError",
     "evalue": "MethodError: \u001b[0mCannot `convert` an object of type \u001b[92mCartesianIndex{2}\u001b[39m\u001b[0m to an object of type \u001b[91mInt64\u001b[39m\n\n\u001b[0mClosest candidates are:\n\u001b[0m  convert(::Type{T}, \u001b[91m::T\u001b[39m) where T<:Number\n\u001b[0m\u001b[90m   @\u001b[39m \u001b[90mBase\u001b[39m \u001b[90m\u001b[4mnumber.jl:6\u001b[24m\u001b[39m\n\u001b[0m  convert(::Type{T}, \u001b[91m::Number\u001b[39m) where T<:Number\n\u001b[0m\u001b[90m   @\u001b[39m \u001b[90mBase\u001b[39m \u001b[90m\u001b[4mnumber.jl:7\u001b[24m\u001b[39m\n\u001b[0m  convert(::Type{T}, \u001b[91m::Base.TwicePrecision\u001b[39m) where T<:Number\n\u001b[0m\u001b[90m   @\u001b[39m \u001b[90mBase\u001b[39m \u001b[90m\u001b[4mtwiceprecision.jl:273\u001b[24m\u001b[39m\n\u001b[0m  ...\n",
     "output_type": "error",
     "traceback": [
      "MethodError: \u001b[0mCannot `convert` an object of type \u001b[92mCartesianIndex{2}\u001b[39m\u001b[0m to an object of type \u001b[91mInt64\u001b[39m\n\n\u001b[0mClosest candidates are:\n\u001b[0m  convert(::Type{T}, \u001b[91m::T\u001b[39m) where T<:Number\n\u001b[0m\u001b[90m   @\u001b[39m \u001b[90mBase\u001b[39m \u001b[90m\u001b[4mnumber.jl:6\u001b[24m\u001b[39m\n\u001b[0m  convert(::Type{T}, \u001b[91m::Number\u001b[39m) where T<:Number\n\u001b[0m\u001b[90m   @\u001b[39m \u001b[90mBase\u001b[39m \u001b[90m\u001b[4mnumber.jl:7\u001b[24m\u001b[39m\n\u001b[0m  convert(::Type{T}, \u001b[91m::Base.TwicePrecision\u001b[39m) where T<:Number\n\u001b[0m\u001b[90m   @\u001b[39m \u001b[90mBase\u001b[39m \u001b[90m\u001b[4mtwiceprecision.jl:273\u001b[24m\u001b[39m\n\u001b[0m  ...\n",
      "",
      "Stacktrace:",
      "  [1] setindex!(A::Vector{Int64}, x::CartesianIndex{2}, i1::Int64)",
      "    @ Base ./array.jl:969",
      "  [2] _unsafe_copyto!(dest::Vector{Int64}, doffs::Int64, src::Vector{Any}, soffs::Int64, n::Int64)",
      "    @ Base ./array.jl:250",
      "  [3] unsafe_copyto!",
      "    @ ./array.jl:304 [inlined]",
      "  [4] _copyto_impl!",
      "    @ ./array.jl:327 [inlined]",
      "  [5] copyto!",
      "    @ ./array.jl:314 [inlined]",
      "  [6] copyto!",
      "    @ ./array.jl:339 [inlined]",
      "  [7] copyto_axcheck!",
      "    @ ./abstractarray.jl:1180 [inlined]",
      "  [8] Vector{Int64}(x::Vector{Any})",
      "    @ Base ./array.jl:621",
      "  [9] Array",
      "    @ ./boot.jl:501 [inlined]",
      " [10] convert(#unused#::Type{Array{Int64}}, a::Vector{Any})",
      "    @ Base ./array.jl:613",
      " [11] assemble_poisson_brinkman(self::BrinkmanStokes.Mesh.Hexmesh, order::Int64, centers::Matrix{Float64})",
      "    @ BrinkmanStokes.Mesh ~/projects/personal/brinkman-stokes/BrinkmanStokes/src/homg/Hexmesh.jl:611",
      " [12] brinkman_stokes(msize::Int64)",
      "    @ Main ~/projects/personal/brinkman-stokes/BrinkmanStokes/src/efficient-operators/stokes_flow/brinkman_stokes.jl:75",
      " [13] macro expansion",
      "    @ ~/projects/personal/brinkman-stokes/BrinkmanStokes/src/efficient-operators/stokes_flow/solve_stokes.jl:17 [inlined]",
      " [14] macro expansion",
      "    @ ./timing.jl:273 [inlined]",
      " [15] solve_stokes(domain::Int64, msize::Int64)",
      "    @ Main ~/projects/personal/brinkman-stokes/BrinkmanStokes/src/efficient-operators/stokes_flow/solve_stokes.jl:13",
      " [16] top-level scope",
      "    @ In[8]:1"
     ]
    }
   ],
   "source": [
    "sol = solve_stokes(domain, msize)"
   ]
  },
  {
   "cell_type": "code",
   "execution_count": null,
   "metadata": {},
   "outputs": [],
   "source": []
  }
 ],
 "metadata": {
  "kernelspec": {
   "display_name": "Julia 1.9.0",
   "language": "julia",
   "name": "julia-1.9"
  },
  "language_info": {
   "file_extension": ".jl",
   "mimetype": "application/julia",
   "name": "julia",
   "version": "1.9.2"
  },
  "orig_nbformat": 4
 },
 "nbformat": 4,
 "nbformat_minor": 2
}
