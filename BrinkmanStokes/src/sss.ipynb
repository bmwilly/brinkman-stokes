{
 "cells": [
  {
   "cell_type": "code",
   "execution_count": 1,
   "metadata": {},
   "outputs": [
    {
     "name": "stderr",
     "output_type": "stream",
     "text": [
      "\u001b[32m\u001b[1m  Activating\u001b[22m\u001b[39m project at `~/projects/personal/brinkman-stokes/BrinkmanStokes`\n"
     ]
    }
   ],
   "source": [
    "using Pkg\n",
    "Pkg.activate(\"..\")"
   ]
  },
  {
   "cell_type": "code",
   "execution_count": 2,
   "metadata": {},
   "outputs": [],
   "source": [
    "using Revise\n",
    "using Debugger"
   ]
  },
  {
   "cell_type": "code",
   "execution_count": 3,
   "metadata": {},
   "outputs": [],
   "source": [
    "break_on(:error)"
   ]
  },
  {
   "cell_type": "code",
   "execution_count": 4,
   "metadata": {},
   "outputs": [],
   "source": [
    "using BrinkmanStokes\n"
   ]
  },
  {
   "cell_type": "code",
   "execution_count": 5,
   "metadata": {},
   "outputs": [],
   "source": [
    "\n",
    "# Revise.include(\"efficient-operators/stokes_flow/solve_stokes.jl\")\n",
    "# Revise.include(\"efficient-operators/graphs/flowplot.jl\")\n",
    "# Revise.include(\"efficient-operators/helpers/helper_functions.jl\")\n"
   ]
  },
  {
   "cell_type": "code",
   "execution_count": 6,
   "metadata": {},
   "outputs": [
    {
     "data": {
      "text/plain": [
       "ismember (generic function with 1 method)"
      ]
     },
     "metadata": {},
     "output_type": "display_data"
    }
   ],
   "source": [
    "\n",
    "include(\"efficient-operators/stokes_flow/solve_stokes.jl\")\n",
    "include(\"efficient-operators/graphs/flowplot.jl\")\n",
    "include(\"efficient-operators/helpers/helper_functions.jl\")\n"
   ]
  },
  {
   "cell_type": "code",
   "execution_count": 7,
   "metadata": {},
   "outputs": [
    {
     "data": {
      "text/plain": [
       "2"
      ]
     },
     "metadata": {},
     "output_type": "display_data"
    }
   ],
   "source": [
    "domain = 2\n",
    "msize = 2"
   ]
  },
  {
   "cell_type": "code",
   "execution_count": 13,
   "metadata": {},
   "outputs": [
    {
     "name": "stdout",
     "output_type": "stream",
     "text": [
      "Grid generation for channel domain.\n",
      "setting up Q2-P1 matrices... \n",
      "done\n"
     ]
    },
    {
     "ename": "BoundsError",
     "evalue": "BoundsError: attempt to access 1328×1 LinearIndices{2, Tuple{Base.OneTo{Int64}, Base.OneTo{Int64}}} at index [1, 2]",
     "output_type": "error",
     "traceback": [
      "BoundsError: attempt to access 1328×1 LinearIndices{2, Tuple{Base.OneTo{Int64}, Base.OneTo{Int64}}} at index [1, 2]\n",
      "\n",
      "Stacktrace:\n",
      "  [1] throw_boundserror(A::LinearIndices{2, Tuple{Base.OneTo{Int64}, Base.OneTo{Int64}}}, I::Tuple{Int64, Int64})\n",
      "    @ Base ./abstractarray.jl:737\n",
      "  [2] checkbounds\n",
      "    @ ./abstractarray.jl:702 [inlined]\n",
      "  [3] _getindex\n",
      "    @ ./abstractarray.jl:1323 [inlined]\n",
      "  [4] getindex(A::LinearIndices{2, Tuple{Base.OneTo{Int64}, Base.OneTo{Int64}}}, I::CartesianIndex{2})\n",
      "    @ Base ./abstractarray.jl:1291\n",
      "  [5] (::BrinkmanStokes.Mesh.var\"#23#24\")(index::CartesianIndex{2})\n",
      "    @ BrinkmanStokes.Mesh ./none:0\n",
      "  [6] iterate\n",
      "    @ ./generator.jl:47 [inlined]\n",
      "  [7] collect_to!(dest::Vector{Int64}, itr::Base.Generator{Vector{Any}, BrinkmanStokes.Mesh.var\"#23#24\"}, offs::Int64, st::Int64)\n",
      "    @ Base ./array.jl:892\n",
      "  [8] collect_to_with_first!(dest::Vector{Int64}, v1::Int64, itr::Base.Generator{Vector{Any}, BrinkmanStokes.Mesh.var\"#23#24\"}, st::Int64)\n",
      "    @ Base ./array.jl:870\n",
      "  [9] collect(itr::Base.Generator{Vector{Any}, BrinkmanStokes.Mesh.var\"#23#24\"})\n",
      "    @ Base ./array.jl:844\n",
      " [10] assemble_poisson_brinkman(self::BrinkmanStokes.Mesh.Hexmesh, order::Int64, centers::Matrix{Float64})\n",
      "    @ BrinkmanStokes.Mesh ~/projects/personal/brinkman-stokes/BrinkmanStokes/src/homg/Hexmesh.jl:610\n",
      " [11] brinkman_stokes(msize::Int64)\n",
      "    @ Main ~/projects/personal/brinkman-stokes/BrinkmanStokes/src/efficient-operators/stokes_flow/brinkman_stokes.jl:75\n",
      " [12] macro expansion\n",
      "    @ ~/projects/personal/brinkman-stokes/BrinkmanStokes/src/efficient-operators/stokes_flow/solve_stokes.jl:17 [inlined]\n",
      " [13] macro expansion\n",
      "    @ ./timing.jl:279 [inlined]\n",
      " [14] solve_stokes(domain::Int64, msize::Int64)\n",
      "    @ Main ~/projects/personal/brinkman-stokes/BrinkmanStokes/src/efficient-operators/stokes_flow/solve_stokes.jl:13\n",
      " [15] top-level scope\n",
      "    @ ~/projects/personal/brinkman-stokes/BrinkmanStokes/src/sss.ipynb:1"
     ]
    }
   ],
   "source": [
    "sol = solve_stokes(domain, msize)"
   ]
  },
  {
   "cell_type": "code",
   "execution_count": null,
   "metadata": {},
   "outputs": [],
   "source": []
  }
 ],
 "metadata": {
  "kernelspec": {
   "display_name": "Julia 1.10.2",
   "language": "julia",
   "name": "julia-1.10"
  },
  "language_info": {
   "file_extension": ".jl",
   "mimetype": "application/julia",
   "name": "julia",
   "version": "1.10.2"
  },
  "orig_nbformat": 4
 },
 "nbformat": 4,
 "nbformat_minor": 2
}
